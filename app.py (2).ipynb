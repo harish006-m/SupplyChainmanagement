{
  "metadata": {
    "kernelspec": {
      "name": "python",
      "display_name": "Python (Pyodide)",
      "language": "python"
    },
    "language_info": {
      "codemirror_mode": {
        "name": "python",
        "version": 3
      },
      "file_extension": ".py",
      "mimetype": "text/x-python",
      "name": "python",
      "nbconvert_exporter": "python",
      "pygments_lexer": "ipython3",
      "version": "3.8"
    }
  },
  "nbformat_minor": 5,
  "nbformat": 4,
  "cells": [
    {
      "id": "6647d9d2-390b-49ca-954c-4317d82c0ba5",
      "cell_type": "code",
      "source": "from flask import Flask, render_template, jsonify\nfrom flask_cors import CORS\nimport psycopg2\nfrom config import DB_CONFIG\n\napp = Flask(_name_)\nCORS(app)\n\ndef get_db_connection():\n    conn = psycopg2.connect(**DB_CONFIG)\n    return conn\n\n@app.route('/')\ndef index():\n    return render_template('index.html')\n\n@app.route('/api/inventory')\ndef inventory_data():\n    conn = get_db_connection()\n    cur = conn.cursor()\n    cur.execute('SELECT item_name, quantity, status FROM inventory;')\n    rows = cur.fetchall()\n    cur.close()\n    conn.close()\n    data = [{'item': row[0], 'quantity': row[1], 'status': row[2]} for row in rows]\n    return jsonify(data)\n\nif _name_ == '_main_':\n    app.run(debug=True)",
      "metadata": {
        "trusted": true
      },
      "outputs": [
        {
          "ename": "<class 'ModuleNotFoundError'>",
          "evalue": "No module named 'flask'",
          "traceback": [
            "\u001b[0;31m---------------------------------------------------------------------------\u001b[0m",
            "\u001b[0;31mModuleNotFoundError\u001b[0m                       Traceback (most recent call last)",
            "Cell \u001b[0;32mIn[1], line 1\u001b[0m\n\u001b[0;32m----> 1\u001b[0m \u001b[38;5;28;01mfrom\u001b[39;00m \u001b[38;5;21;01mflask\u001b[39;00m \u001b[38;5;28;01mimport\u001b[39;00m Flask, render_template, jsonify\n\u001b[1;32m      2\u001b[0m \u001b[38;5;28;01mfrom\u001b[39;00m \u001b[38;5;21;01mflask_cors\u001b[39;00m \u001b[38;5;28;01mimport\u001b[39;00m CORS\n\u001b[1;32m      3\u001b[0m \u001b[38;5;28;01mimport\u001b[39;00m \u001b[38;5;21;01mpsycopg2\u001b[39;00m\n",
            "\u001b[0;31mModuleNotFoundError\u001b[0m: No module named 'flask'"
          ],
          "output_type": "error"
        }
      ],
      "execution_count": 1
    },
    {
      "id": "2d2a60ee-87ad-4ca3-a2ba-c059f8e35f6b",
      "cell_type": "code",
      "source": "DB_CONFIG = {\n    'host': 'localhost',\n    'database': 'supply_chain',\n    'user': 'postgres',\n    'password': 'your_password_here'  # Change this!\n}",
      "metadata": {
        "trusted": true
      },
      "outputs": [],
      "execution_count": 2
    },
    {
      "id": "2978f725-6c87-44db-b8c5-57592741a6a9",
      "cell_type": "code",
      "source": "",
      "metadata": {
        "trusted": true
      },
      "outputs": [],
      "execution_count": null
    }
  ]
}